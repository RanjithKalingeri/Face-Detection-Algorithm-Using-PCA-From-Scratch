{
 "cells": [
  {
   "cell_type": "code",
   "execution_count": 2,
   "metadata": {},
   "outputs": [],
   "source": [
    "import cv2\n",
    "import os\n",
    "import numpy as np       \n",
    "import matplotlib.pyplot as plt\n",
    "import glob"
   ]
  },
  {
   "cell_type": "code",
   "execution_count": 3,
   "metadata": {},
   "outputs": [],
   "source": [
    "# getting Mean Subtracted Data \n",
    "# Replace the face detection file path with the file path according to where face data set is stored in your system in format \n",
    "#'filelocation/*'\n",
    "path = 'C:/Users/ranji/Desktop/face/*'\n"
   ]
  },
  {
   "cell_type": "code",
   "execution_count": 4,
   "metadata": {
    "scrolled": true
   },
   "outputs": [
    {
     "data": {
      "text/plain": [
       "(array([[-37.15      , -51.15      , -25.15      , ...,  44.85      ,\n",
       "          42.85      ,  37.85      ],\n",
       "        [-36.17857143, -51.17857143, -25.17857143, ...,  37.82142857,\n",
       "          39.82142857,  35.82142857],\n",
       "        [-40.5       , -52.5       , -23.5       , ...,  41.5       ,\n",
       "          39.5       ,  40.5       ],\n",
       "        ...,\n",
       "        [-27.72857143, -37.72857143, -42.72857143, ..., -41.72857143,\n",
       "          10.27142857, -34.72857143],\n",
       "        [-27.89285714, -33.89285714, -39.89285714, ..., -36.89285714,\n",
       "          16.10714286, -38.89285714],\n",
       "        [-27.24285714, -40.24285714, -39.24285714, ..., -33.24285714,\n",
       "          10.75714286, -31.24285714]]),\n",
       " array([[85.15      ],\n",
       "        [85.17857143],\n",
       "        [85.5       ],\n",
       "        ...,\n",
       "        [74.72857143],\n",
       "        [73.89285714],\n",
       "        [73.24285714]]))"
      ]
     },
     "execution_count": 4,
     "metadata": {},
     "output_type": "execute_result"
    }
   ],
   "source": [
    "def getMeanSubData(path):\n",
    "    data = np.empty((0,10304), int)\n",
    "    meanarr = np.empty((0,10304), int)\n",
    "    lenght = len(path)\n",
    "    for i in range(1,41): \n",
    "        folder = str(path[0:lenght-1]) +str('s') + str(i)\n",
    "        #print(folder)\n",
    "        files = glob.glob(str(folder) + str('/') + str('*'))\n",
    "        j =0 \n",
    "        for file in files: \n",
    "            if j<7: \n",
    "                img = cv2.imread(file)\n",
    "                img = cv2.cvtColor(img, cv2.COLOR_BGR2GRAY)\n",
    "                img = img.flatten()\n",
    "                data = np.append(data, np.array([img]), axis=0)\n",
    "            j = j+1\n",
    "    data = np.transpose(data)\n",
    "    mean = np.mean(data, axis = 1)\n",
    "    mean = np.append(meanarr,np.array([mean]), axis=0)\n",
    "    mean = np.transpose(mean)\n",
    "    mean_sub_data = data - mean\n",
    "    #print(mean_sub_data.shape)\n",
    "    return mean_sub_data, mean \n",
    "    \n",
    "getMeanSubData(path)"
   ]
  },
  {
   "cell_type": "code",
   "execution_count": 5,
   "metadata": {},
   "outputs": [],
   "source": [
    "#Getting eigen vectors "
   ]
  },
  {
   "cell_type": "code",
   "execution_count": 6,
   "metadata": {},
   "outputs": [
    {
     "data": {
      "text/plain": [
       "array([[-0.05242567,  0.04850929, -0.10318429, ..., -0.01551674,\n",
       "         0.07758203, -0.03769107],\n",
       "       [-0.09263608,  0.04269897, -0.060034  , ...,  0.11512273,\n",
       "        -0.04651512, -0.01486918],\n",
       "       [-0.1031415 ,  0.03133874,  0.02435951, ...,  0.07898323,\n",
       "         0.0500002 ,  0.10586431],\n",
       "       ...,\n",
       "       [-0.01765535,  0.00182342,  0.12848587, ...,  0.09116386,\n",
       "        -0.02317898, -0.05128706],\n",
       "       [-0.03959338,  0.06872157,  0.05303724, ...,  0.04310801,\n",
       "         0.01019105,  0.02010629],\n",
       "       [-0.01971575,  0.04544273,  0.09502669, ...,  0.03066523,\n",
       "        -0.04526188,  0.06851649]])"
      ]
     },
     "execution_count": 6,
     "metadata": {},
     "output_type": "execute_result"
    }
   ],
   "source": [
    "def k_eigen_vectors (mean_sub_data, k): \n",
    "    covarience_matrix = np.dot(np.transpose(mean_sub_data), mean_sub_data)\n",
    "    eigen_vectors,v,d = np.linalg.svd(covarience_matrix)\n",
    "    eigen_vectors = np.transpose(eigen_vectors )\n",
    "    k_eigen_vector = eigen_vectors[0:k]\n",
    "    k_eigen_vector = np.transpose(k_eigen_vector )\n",
    "    return k_eigen_vector\n",
    "\n",
    "mean_sub_data, mean = getMeanSubData(path)\n",
    "k_eigen_vectors (mean_sub_data, 50)\n",
    "\n"
   ]
  },
  {
   "cell_type": "code",
   "execution_count": 7,
   "metadata": {},
   "outputs": [],
   "source": [
    "#eigen faces "
   ]
  },
  {
   "cell_type": "code",
   "execution_count": 8,
   "metadata": {},
   "outputs": [
    {
     "name": "stdout",
     "output_type": "stream",
     "text": [
      "(50, 10304)\n"
     ]
    }
   ],
   "source": [
    "def eigen_faces (mean_sub_data, k_eigen_vectors):\n",
    "    eigen_face = np.dot(np.transpose(k_eigen_vectors), np.transpose(mean_sub_data)) \n",
    "    return eigen_face\n",
    "\n",
    "mean_sub_data, mean = getMeanSubData(path)\n",
    "k_eigen_vector = k_eigen_vectors (mean_sub_data, 50)\n",
    "eigen_face = eigen_faces (mean_sub_data, k_eigen_vector)\n",
    "print(eigen_face.shape)\n"
   ]
  },
  {
   "cell_type": "code",
   "execution_count": 9,
   "metadata": {},
   "outputs": [],
   "source": [
    "#signature face matrix "
   ]
  },
  {
   "cell_type": "code",
   "execution_count": 10,
   "metadata": {},
   "outputs": [],
   "source": [
    "def sig_face_matrix (eigen_face, meansubmatrix): \n",
    "    sigfacematrix = np.dot(eigen_face, meansubmatrix)\n",
    "    #print(sigfacematrix.shape)\n",
    "    return sigfacematrix\n",
    "\n",
    "mean_sub_data, mean = getMeanSubData(path)\n",
    "k_eigen_vector = k_eigen_vectors (mean_sub_data, 50)\n",
    "eigen_face = eigen_faces (mean_sub_data, k_eigen_vector)\n",
    "sigface = sig_face_matrix(eigen_face, mean_sub_data)\n"
   ]
  },
  {
   "cell_type": "code",
   "execution_count": 11,
   "metadata": {},
   "outputs": [],
   "source": [
    "#getting test mean sub matrix"
   ]
  },
  {
   "cell_type": "code",
   "execution_count": 12,
   "metadata": {},
   "outputs": [
    {
     "name": "stdout",
     "output_type": "stream",
     "text": [
      "90.83333333333333\n"
     ]
    },
    {
     "data": {
      "text/plain": [
       "90.83333333333333"
      ]
     },
     "execution_count": 12,
     "metadata": {},
     "output_type": "execute_result"
    }
   ],
   "source": [
    "def accuracy(path, k):\n",
    "    mean_sub_data, mean = getMeanSubData(str(path))\n",
    "    k_eigen_vector = k_eigen_vectors (mean_sub_data, k)\n",
    "    eigen_face = eigen_faces (mean_sub_data, k_eigen_vector)\n",
    "    sigface = sig_face_matrix(eigen_face, mean_sub_data)\n",
    "    sigface = np.transpose(sigface)\n",
    "    count = 0\n",
    "    max_values =[]\n",
    "    for i in range(1,41): \n",
    "        folder = 'C:/Users/ranji/Desktop/face\\\\s' + str(i)\n",
    "        files = glob.glob(str(folder) + str('/') + str('*'))\n",
    "        j =0 \n",
    "        for file in files: \n",
    "            if j>=7: \n",
    "                data = np.empty((0,10304), int)\n",
    "                img = cv2.imread(file)\n",
    "                img = cv2.cvtColor(img, cv2.COLOR_BGR2GRAY)\n",
    "                img = img.flatten()\n",
    "                data = np.append(data, np.array([img]), axis=0)\n",
    "                data = np.transpose(data)\n",
    "                data = data - mean \n",
    "                sig_face_test = np.dot(eigen_face, data) \n",
    "                sig_face_test = np.transpose(sig_face_test)\n",
    "                norm = []\n",
    "                for k in range(280): \n",
    "                    normele = np.linalg.norm(sig_face_test[0] - sigface[k])\n",
    "                    norm.append(normele)\n",
    "                #print(norm)\n",
    "                min_pos = norm.index(min(norm))\n",
    "                max_vale = max(norm)\n",
    "                max_values.append(max_vale)\n",
    "                res = min_pos in range(7*(i-1), 7*i)\n",
    "                if (res): \n",
    "                    count = count +1\n",
    "            j = j+1\n",
    "    print((count/120)*100)\n",
    "    return ((count/120)*100)\n",
    "    \n",
    "accuracy('C:/Users/ranji/Desktop/face/*', 50)"
   ]
  },
  {
   "cell_type": "code",
   "execution_count": 13,
   "metadata": {},
   "outputs": [],
   "source": [
    "#getting accuracy plot "
   ]
  },
  {
   "cell_type": "code",
   "execution_count": 14,
   "metadata": {},
   "outputs": [
    {
     "name": "stdout",
     "output_type": "stream",
     "text": [
      "accuracy for k = 1 is:\n",
      "6.666666666666667\n",
      "accuracy for k = 2 is:\n",
      "32.5\n",
      "accuracy for k = 3 is:\n",
      "62.5\n",
      "accuracy for k = 4 is:\n",
      "70.0\n",
      "accuracy for k = 5 is:\n",
      "75.0\n",
      "accuracy for k = 6 is:\n",
      "81.66666666666667\n",
      "accuracy for k = 7 is:\n",
      "85.0\n",
      "accuracy for k = 8 is:\n",
      "88.33333333333333\n",
      "accuracy for k = 9 is:\n",
      "87.5\n",
      "accuracy for k = 10 is:\n",
      "89.16666666666667\n",
      "accuracy for k = 11 is:\n",
      "90.0\n",
      "accuracy for k = 12 is:\n",
      "89.16666666666667\n",
      "accuracy for k = 13 is:\n",
      "89.16666666666667\n",
      "accuracy for k = 14 is:\n",
      "89.16666666666667\n"
     ]
    },
    {
     "data": {
      "text/plain": [
       "[<matplotlib.lines.Line2D at 0x1e98cd47700>]"
      ]
     },
     "execution_count": 14,
     "metadata": {},
     "output_type": "execute_result"
    },
    {
     "data": {
      "image/png": "[encoded data removed]",
      "text/plain": [
       "<Figure size 432x288 with 1 Axes>"
      ]
     },
     "metadata": {
      "needs_background": "light"
     },
     "output_type": "display_data"
    }
   ],
   "source": [
    "import matplotlib.pyplot as plt\n",
    "lis = []\n",
    "\n",
    "for k in range(1, 15): \n",
    "    print('accuracy for k = ' + str(k) + ' is:')\n",
    "    lis.append(accuracy('C:/Users/ranji/Desktop/face/*', k))\n",
    "    \n",
    "\n",
    "plt.xlabel('K')\n",
    "plt.ylabel('accuracy')\n",
    "plt.title('Accuracy Vs K')\n",
    "\n",
    "plt.plot(range(1,15), lis)\n"
   ]
  },
  {
   "cell_type": "code",
   "execution_count": 15,
   "metadata": {},
   "outputs": [],
   "source": [
    "#imposter detection"
   ]
  },
  {
   "cell_type": "code",
   "execution_count": 16,
   "metadata": {},
   "outputs": [
    {
     "name": "stdout",
     "output_type": "stream",
     "text": [
      "test image 0 is imposter\n",
      "test image 1 is imposter\n",
      "test image 2 is imposter\n",
      "test image 3 is imposter\n",
      "test image 4 is imposter\n",
      "test image 5 is imposter\n",
      "test image 6 is imposter\n",
      "test image 7 is imposter\n",
      "test image 8 is imposter\n",
      "test image 9 is imposter\n"
     ]
    }
   ],
   "source": [
    "import random\n",
    "\n",
    "def imposters(path, k, n):\n",
    "    mean_sub_data, mean = getMeanSubData(str(path))\n",
    "    k_eigen_vector = k_eigen_vectors (mean_sub_data, k)\n",
    "    eigen_face = eigen_faces (mean_sub_data, k_eigen_vector)\n",
    "    sigface = sig_face_matrix(eigen_face, mean_sub_data)\n",
    "    sigface = np.transpose(sigface)\n",
    "    for i in range(n):\n",
    "        randomlist = []\n",
    "        data = np.empty((0,10304), int)\n",
    "        for j in range(10304):\n",
    "            n = random.randint(-4,4)\n",
    "            randomlist.append(n)\n",
    "        data = np.append(data, np.array([randomlist]), axis=0)\n",
    "        data = np.transpose(data)\n",
    "        sig_face_test = np.dot(eigen_face, data) \n",
    "        sig_face_test = np.transpose(sig_face_test)\n",
    "        norm = []\n",
    "        for k in range(280): \n",
    "            normele = np.linalg.norm(sig_face_test[0] - sigface[k])\n",
    "            norm.append(normele)\n",
    "        #print(min(norm))\n",
    "        \n",
    "        if min(norm) > 18919418:\n",
    "            print('test image ' + str(i) + ' is imposter')\n",
    "        else: \n",
    "            print('test image ' + str(i) + ' is not imposter')\n",
    "        \n",
    "    \n",
    "imposters(path, 50, 10)\n",
    "    \n",
    "    \n",
    "        \n"
   ]
  }
 ],
 "metadata": {
  "kernelspec": {
   "display_name": "Python 3",
   "language": "python",
   "name": "python3"
  },
  "language_info": {
   "codemirror_mode": {
    "name": "ipython",
    "version": 3
   },
   "file_extension": ".py",
   "mimetype": "text/x-python",
   "name": "python",
   "nbconvert_exporter": "python",
   "pygments_lexer": "ipython3",
   "version": "3.8.5"
  }
 },
 "nbformat": 4,
 "nbformat_minor": 4
}
